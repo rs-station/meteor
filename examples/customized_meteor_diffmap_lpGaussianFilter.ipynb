{
 "cells": [
  {
   "cell_type": "markdown",
   "metadata": {},
   "source": [
    "# 📺 Denoise a map with custom inputs\n",
    "\n",
    "This notebook takes you step by step through the same procedure as used by `meteor.diffmap`, but in a notebook. There is one difference: we assume you've got some pre-computed phases that you want to employ, rather than computing phases from a structural model (CIF/PDB)."
   ]
  },
  {
   "cell_type": "code",
   "execution_count": 20,
   "metadata": {},
   "outputs": [],
   "source": [
    "# ruff: noqa: T201\n",
    "\n",
    "import numpy as np\n",
    "import reciprocalspaceship as rs\n",
    "from matplotlib import pyplot as plt\n",
    "import sys\n",
    "sys.path.append('/Users/vapostolop/meteor')\n"
   ]
  },
  {
   "cell_type": "code",
   "execution_count": 21,
   "metadata": {
    "scrolled": true
   },
   "outputs": [],
   "source": [
    "from meteor.diffmaps import compute_difference_map, max_negentropy_kweighted_difference_map\n",
    "from meteor.rsmap import Map\n",
    "from meteor.tv import tv_denoise_difference_map\n",
    "from meteor.validate import map_negentropy\n",
    "from meteor.lpGaussian import low_pass_denoise_difference_map"
   ]
  },
  {
   "cell_type": "markdown",
   "metadata": {},
   "source": [
    "### 1. Load the data of interest\n",
    "\n",
    "We'll use `scaled-test-data.mtz`, an test/example MTZ provided in this repo. The data come from a real experiment, Fadini _et al._ (**2023**) _J Am Chem Soc_ 145: 15796-15808 (https://doi.org/10.1021/jacs.3c02313), where the authors imaged the cis-trans isomerization of rsEGFP2. The MTZ contains a lot of columns -- we'll ignore most of them and focus on.\n",
    "\n",
    "- the amplitudes and phases for a dark reference dataset\n",
    "- amplitudes for a light-activated dataset"
   ]
  },
  {
   "cell_type": "code",
   "execution_count": 22,
   "metadata": {},
   "outputs": [
    {
     "name": "stdout",
     "output_type": "stream",
     "text": [
      "Index(['F_on', 'SIGF_on', 'F_off', 'SIGF_off', 'FC_nochrom', 'PHIC_nochrom',\n",
      "       'F_on_scaled', 'SIGF_on_scaled', 'F_off_scaled', 'SIGF_off_scaled',\n",
      "       'F_k', 'SIGF_k', 'PHI_k', 'F_TV', 'PHI_TV', 'SIGF_TV', 'F_itTV',\n",
      "       'SIGF_itTV', 'PHI_itTV'],\n",
      "      dtype='object')\n"
     ]
    }
   ],
   "source": [
    "# path is relative to where this notebook usually is in the `meteor` repo\n",
    "mtz_path = \"../test/data/scaled-test-data.mtz\"\n",
    "mtz_dataset = rs.read_mtz(mtz_path)\n",
    "\n",
    "print(mtz_dataset.columns)"
   ]
  },
  {
   "cell_type": "markdown",
   "metadata": {},
   "source": [
    "We'll use the same phase column for both the `native` and `derivative` datasets we're comparing, making the maps we compute isomorphous difference maps. Note that's not a requirement, though!\n",
    "\n",
    "In this case, the phases were computed _omitting_ the chromophore where isomerization was expected, so the results should not be biased by the starting model at all. This is a nice application of a custom phase calculation. But: the same effect could be achieved by passing a model without the chromophore to `meteor.diffmap` 😊."
   ]
  },
  {
   "cell_type": "code",
   "execution_count": 23,
   "metadata": {},
   "outputs": [],
   "source": [
    "native_map = Map(\n",
    "    mtz_dataset,\n",
    "    amplitude_column=\"F_off_scaled\",\n",
    "    phase_column=\"PHIC_nochrom\",\n",
    "    uncertainty_column=\"SIGF_off_scaled\",\n",
    ")\n",
    "\n",
    "derivative_map = Map(\n",
    "    mtz_dataset,\n",
    "    amplitude_column=\"F_on_scaled\",\n",
    "    phase_column=\"PHIC_nochrom\",\n",
    "    uncertainty_column=\"SIGF_on_scaled\",\n",
    ")"
   ]
  },
  {
   "cell_type": "code",
   "execution_count": 24,
   "metadata": {},
   "outputs": [
    {
     "name": "stdout",
     "output_type": "stream",
     "text": [
      "initial negentropy: 0.00025\n"
     ]
    }
   ],
   "source": [
    "# for a reference, let's compute a \"vanilla\" difference map to benchmark the initial negentropy\n",
    "vanilla_isomorphous_diffmap = compute_difference_map(derivative_map, native_map)\n",
    "initial_negentropy = map_negentropy(vanilla_isomorphous_diffmap)\n",
    "\n",
    "print(f\"initial negentropy: {initial_negentropy:.5f}\")"
   ]
  },
  {
   "cell_type": "code",
   "execution_count": 33,
   "metadata": {},
   "outputs": [
    {
     "data": {
      "text/plain": [
       "Index(['F', 'PHI', 'SIGF'], dtype='object')"
      ]
     },
     "execution_count": 33,
     "metadata": {},
     "output_type": "execute_result"
    }
   ],
   "source": [
    "vanilla_isomorphous_diffmap.columns"
   ]
  },
  {
   "cell_type": "markdown",
   "metadata": {},
   "source": [
    "### 2. Compute a _k_-weighted difference map\n",
    "\n",
    "Now, we'll compute a _k_-weighted difference map, varying the _k_-parameter to maximize the difference map negentropy."
   ]
  },
  {
   "cell_type": "code",
   "execution_count": 25,
   "metadata": {},
   "outputs": [],
   "source": [
    "k_weighted_diffmap, kparameter_metadata = max_negentropy_kweighted_difference_map(\n",
    "    derivative_map, native_map\n",
    ")\n",
    "kewighted_negentropy = map_negentropy(k_weighted_diffmap)"
   ]
  },
  {
   "cell_type": "code",
   "execution_count": 26,
   "metadata": {},
   "outputs": [
    {
     "name": "stdout",
     "output_type": "stream",
     "text": [
      "optimal k-parameter: 0.1\n",
      "negentropy: -0.00007\n"
     ]
    }
   ],
   "source": [
    "# print(f\"optimal k-parameter: {kparameter_metadata.optimal_parameter_value}\")\n",
    "print(f\"optimal k-parameter: {kparameter_metadata.optimal_parameter_value}\")\n",
    "print(f\"negentropy: {kewighted_negentropy:.5f}\")"
   ]
  },
  {
   "cell_type": "markdown",
   "metadata": {},
   "source": [
    "### 3. Low pass Gaussian filtering"
   ]
  },
  {
   "cell_type": "code",
   "execution_count": 27,
   "metadata": {},
   "outputs": [
    {
     "name": "stdout",
     "output_type": "stream",
     "text": [
      "Difference map cell paratemers are: \n",
      "(51.99, 62.91, 72.03, 90.0, 90.0, 90.0)\n",
      "Voxel size\n",
      "[17.33 20.97 24.01]\n",
      "BRACKET_FOR_GOLDEN_OPTIMIZATION =  (0.0, 5.0)\n",
      "After normalisaiton NORM_BRACKET_FOR_GOLDEN_OPTIMIZATION =  [0.         0.24073182]\n",
      "\u001b[2m2025-05-02 16:15:50\u001b[0m [\u001b[32m\u001b[1minfo     \u001b[0m] \u001b[1mOptimizing Gaussian smoothing sigma using golden-section search.\u001b[0m\n",
      "\u001b[2m2025-05-02 16:15:59\u001b[0m [\u001b[32m\u001b[1minfo     \u001b[0m] \u001b[1mApplying Gaussian smoothing with normalized sigma\u001b[0m \u001b[36mnormalised_sigma\u001b[0m=\u001b[35mnp.float64(0.18280214881498844)\u001b[0m \u001b[36moriginal_sigma\u001b[0m=\u001b[35mnp.float64(0.18280214881498844)\u001b[0m \u001b[36mvoxel_size\u001b[0m=\u001b[35mnp.float64(20.77)\u001b[0m\n"
     ]
    }
   ],
   "source": [
    "gaussian_denosied_map, gaussian_metadata = low_pass_denoise_difference_map(k_weighted_diffmap, full_output=True)"
   ]
  },
  {
   "cell_type": "markdown",
   "metadata": {},
   "source": [
    "### 4. TV denoising map"
   ]
  },
  {
   "cell_type": "code",
   "execution_count": 28,
   "metadata": {},
   "outputs": [],
   "source": [
    "tv_denosied_map, tv_metadata = tv_denoise_difference_map(k_weighted_diffmap, full_output=True)"
   ]
  },
  {
   "cell_type": "markdown",
   "metadata": {},
   "source": [
    "We can inspect the run `metadata` to observe the optimization in progress -- the Golden section method should nicely sample the region around the maximum more densely."
   ]
  },
  {
   "cell_type": "markdown",
   "metadata": {},
   "source": [
    "### 5. Compare the methods"
   ]
  },
  {
   "cell_type": "code",
   "execution_count": 29,
   "metadata": {},
   "outputs": [
    {
     "data": {
      "text/plain": [
       "(0.06575155258178711, 2.384185791015625e-07)"
      ]
     },
     "execution_count": 29,
     "metadata": {},
     "output_type": "execute_result"
    }
   ],
   "source": [
    "tv_metadata.negentropy_gain, gaussian_metadata.negentropy_gain"
   ]
  },
  {
   "cell_type": "code",
   "execution_count": 30,
   "metadata": {},
   "outputs": [],
   "source": [
    "def plot_negentropy_gain_both(tv_metadata, gaussian_metadata, threshold=1e-5):\n",
    "    if tv_metadata.negentropy_gain < threshold:\n",
    "        print(\"Negentropy gain for TV denoising is almost 0! Denoising likely does not improve your map.\")\n",
    "        print(f\"Gain: {tv_metadata.negentropy_gain}\")\n",
    "        sys.exit(1)\n",
    "        \n",
    "    if gaussian_metadata.negentropy_gain < threshold:\n",
    "        print(\"Negentropy gain for Gaussian filtering is almost 0! Filtering likely does not improve your map.\")\n",
    "        print(f\"Gain: {gaussian_metadata.negentropy_gain}\")\n",
    "        sys.exit(1)\n",
    "        \n",
    "    methods = [\"TV\", \"Gaussian\"]\n",
    "    gains = [tv_metadata.negentropy_gain, gaussian_metadata.negentropy_gain]\n",
    "    gain_ratios = [tv_metadata.negentropy_gain_ratio, gaussian_metadata.negentropy_gain_ratio]\n",
    "\n",
    "    fig, axs = plt.subplots(1, 2, figsize=(10, 4))\n",
    "\n",
    "    # Absolute gain\n",
    "    axs[0].bar(methods, gains, color=[\"blue\", \"red\"])\n",
    "    axs[0].set_ylabel(\"Negentropy Gain\")\n",
    "    axs[0].set_title(\"Absolute Improvement\")\n",
    "\n",
    "    # Relative gain\n",
    "    axs[1].bar(methods, gain_ratios, color=[\"blue\", \"red\"])\n",
    "    axs[1].set_ylabel(\"Negentropy Gain Ratio\")\n",
    "    axs[1].set_title(\"Relative Improvement\")\n",
    "\n",
    "    for ax in axs:\n",
    "        ax.set_ylim(0, max(max(gains), max(gain_ratios)) * 1.2)\n",
    "\n",
    "    plt.tight_layout()\n",
    "    plt.show()\n"
   ]
  },
  {
   "cell_type": "code",
   "execution_count": 31,
   "metadata": {},
   "outputs": [
    {
     "data": {
      "text/plain": [
       "(0.06575155258178711, 2.384185791015625e-07)"
      ]
     },
     "execution_count": 31,
     "metadata": {},
     "output_type": "execute_result"
    }
   ],
   "source": [
    "tv_metadata.negentropy_gain, gaussian_metadata.negentropy_gain"
   ]
  },
  {
   "cell_type": "code",
   "execution_count": 32,
   "metadata": {},
   "outputs": [
    {
     "name": "stdout",
     "output_type": "stream",
     "text": [
      "Negentropy gain for Gaussian filtering is almost 0! Filtering likely does not improve your map.\n",
      "Gain: 2.384185791015625e-07\n"
     ]
    },
    {
     "ename": "SystemExit",
     "evalue": "1",
     "output_type": "error",
     "traceback": [
      "An exception has occurred, use %tb to see the full traceback.\n",
      "\u001b[31mSystemExit\u001b[39m\u001b[31m:\u001b[39m 1\n"
     ]
    },
    {
     "name": "stderr",
     "output_type": "stream",
     "text": [
      "/Users/vapostolop/opt/anaconda3/envs/meteor/lib/python3.11/site-packages/IPython/core/interactiveshell.py:3557: UserWarning: To exit: use 'exit', 'quit', or Ctrl-D.\n",
      "  warn(\"To exit: use 'exit', 'quit', or Ctrl-D.\", stacklevel=1)\n"
     ]
    }
   ],
   "source": [
    "plot_negentropy_gain_both(tv_metadata, gaussian_metadata)\n"
   ]
  },
  {
   "cell_type": "markdown",
   "metadata": {},
   "source": [
    "### 4. Write out the results\n",
    "\n",
    "Awesome! Now we have a fancy new diffmap, which we probably want to save so we can do something with it. Like fire up Coot and check it out. If you are curious, the PDB ID corresponding to this dataset is `8a6g`, and you can find a copy of the structure as a PDB file in this repository:\n",
    "\n",
    "> `../test/data/8a6g.pdb`"
   ]
  },
  {
   "cell_type": "code",
   "execution_count": null,
   "metadata": {},
   "outputs": [],
   "source": [
    "tv_denosied_map.write_mtz(\"my_denoised_tv_diffmap.mtz\")"
   ]
  },
  {
   "cell_type": "code",
   "execution_count": null,
   "metadata": {},
   "outputs": [],
   "source": [
    "gaussian_denosied_map.write_mtz(\"my_denoised_gaussian_diffmap.mtz\")"
   ]
  },
  {
   "cell_type": "code",
   "execution_count": 35,
   "metadata": {},
   "outputs": [],
   "source": [
    "vanilla_isomorphous_diffmap.write_mtz(\"my_denoised_vanilla_diffmap.mtz\")"
   ]
  }
 ],
 "metadata": {
  "kernelspec": {
   "display_name": "Python 3 (ipykernel)",
   "language": "python",
   "name": "python3"
  },
  "language_info": {
   "codemirror_mode": {
    "name": "ipython",
    "version": 3
   },
   "file_extension": ".py",
   "mimetype": "text/x-python",
   "name": "python",
   "nbconvert_exporter": "python",
   "pygments_lexer": "ipython3",
   "version": "3.11.11"
  }
 },
 "nbformat": 4,
 "nbformat_minor": 4
}
