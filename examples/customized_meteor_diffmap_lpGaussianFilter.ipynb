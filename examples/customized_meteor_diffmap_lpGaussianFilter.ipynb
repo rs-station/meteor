{
 "cells": [
  {
   "cell_type": "markdown",
   "metadata": {},
   "source": [
    "# 📺 Denoise a map with custom inputs\n",
    "\n",
    "This notebook takes you step by step through the same procedure as used by `meteor.diffmap`, but in a notebook. There is one difference: we assume you've got some pre-computed phases that you want to employ, rather than computing phases from a structural model (CIF/PDB)."
   ]
  },
  {
   "cell_type": "code",
   "execution_count": 1,
   "metadata": {},
   "outputs": [],
   "source": [
    "# ruff: noqa: T201\n",
    "\n",
    "import numpy as np\n",
    "import reciprocalspaceship as rs\n",
    "from matplotlib import pyplot as plt\n",
    "import sys\n",
    "sys.path.append('/Users/vapostolop/meteor/meteor')\n"
   ]
  },
  {
   "cell_type": "code",
   "execution_count": 2,
   "metadata": {},
   "outputs": [],
   "source": [
    "from meteor.diffmaps import compute_difference_map, max_negentropy_kweighted_difference_map\n",
    "from meteor.rsmap import Map\n",
    "from meteor.tv import tv_denoise_difference_map\n",
    "from meteor.validate import map_negentropy\n",
    "from meteor.lpGaussian import low_pass_denoise_difference_map"
   ]
  },
  {
   "cell_type": "markdown",
   "metadata": {},
   "source": [
    "### 1. Load the data of interest\n",
    "\n",
    "We'll use `scaled-test-data.mtz`, an test/example MTZ provided in this repo. The data come from a real experiment, Fadini _et al._ (**2023**) _J Am Chem Soc_ 145: 15796-15808 (https://doi.org/10.1021/jacs.3c02313), where the authors imaged the cis-trans isomerization of rsEGFP2. The MTZ contains a lot of columns -- we'll ignore most of them and focus on.\n",
    "\n",
    "- the amplitudes and phases for a dark reference dataset\n",
    "- amplitudes for a light-activated dataset"
   ]
  },
  {
   "cell_type": "code",
   "execution_count": 3,
   "metadata": {},
   "outputs": [
    {
     "name": "stdout",
     "output_type": "stream",
     "text": [
      "Index(['F_on', 'SIGF_on', 'F_off', 'SIGF_off', 'FC_nochrom', 'PHIC_nochrom',\n",
      "       'F_on_scaled', 'SIGF_on_scaled', 'F_off_scaled', 'SIGF_off_scaled',\n",
      "       'F_k', 'SIGF_k', 'PHI_k', 'F_TV', 'PHI_TV', 'SIGF_TV', 'F_itTV',\n",
      "       'SIGF_itTV', 'PHI_itTV'],\n",
      "      dtype='object')\n"
     ]
    }
   ],
   "source": [
    "# path is relative to where this notebook usually is in the `meteor` repo\n",
    "mtz_path = \"../test/data/scaled-test-data.mtz\"\n",
    "mtz_dataset = rs.read_mtz(mtz_path)\n",
    "\n",
    "print(mtz_dataset.columns)"
   ]
  },
  {
   "cell_type": "markdown",
   "metadata": {},
   "source": [
    "We'll use the same phase column for both the `native` and `derivative` datasets we're comparing, making the maps we compute isomorphous difference maps. Note that's not a requirement, though!\n",
    "\n",
    "In this case, the phases were computed _omitting_ the chromophore where isomerization was expected, so the results should not be biased by the starting model at all. This is a nice application of a custom phase calculation. But: the same effect could be achieved by passing a model without the chromophore to `meteor.diffmap` 😊."
   ]
  },
  {
   "cell_type": "code",
   "execution_count": 4,
   "metadata": {},
   "outputs": [],
   "source": [
    "native_map = Map(\n",
    "    mtz_dataset,\n",
    "    amplitude_column=\"F_off\",\n",
    "    phase_column=\"PHIC_nochrom\",\n",
    "    uncertainty_column=\"SIGF_off\",\n",
    ")\n",
    "\n",
    "derivative_map = Map(\n",
    "    mtz_dataset,\n",
    "    amplitude_column=\"F_on\",\n",
    "    phase_column=\"PHIC_nochrom\",\n",
    "    uncertainty_column=\"SIGF_on\",\n",
    ")"
   ]
  },
  {
   "cell_type": "code",
   "execution_count": 5,
   "metadata": {},
   "outputs": [
    {
     "name": "stdout",
     "output_type": "stream",
     "text": [
      "initial negentropy: 0.00114\n"
     ]
    }
   ],
   "source": [
    "# for a reference, let's compute a \"vanilla\" difference map to benchmark the initial negentropy\n",
    "vanilla_isomorphous_diffmap = compute_difference_map(derivative_map, native_map)\n",
    "initial_negentropy = map_negentropy(vanilla_isomorphous_diffmap)\n",
    "\n",
    "print(f\"initial negentropy: {initial_negentropy:.5f}\")"
   ]
  },
  {
   "cell_type": "markdown",
   "metadata": {},
   "source": [
    "### 2. Compute a _k_-weighted difference map\n",
    "\n",
    "Now, we'll compute a _k_-weighted difference map, varying the _k_-parameter to maximize the difference map negentropy."
   ]
  },
  {
   "cell_type": "code",
   "execution_count": 6,
   "metadata": {},
   "outputs": [],
   "source": [
    "k_weighted_diffmap, kparameter_metadata = max_negentropy_kweighted_difference_map(\n",
    "    derivative_map, native_map\n",
    ")\n",
    "kewighted_negentropy = map_negentropy(k_weighted_diffmap)"
   ]
  },
  {
   "cell_type": "code",
   "execution_count": 7,
   "metadata": {},
   "outputs": [
    {
     "name": "stdout",
     "output_type": "stream",
     "text": [
      "optimal k-parameter: 0.01\n",
      "negentropy: 0.00127\n"
     ]
    }
   ],
   "source": [
    "# print(f\"optimal k-parameter: {kparameter_metadata.optimal_parameter_value}\")\n",
    "print(f\"optimal k-parameter: {kparameter_metadata.optimal_parameter_value}\")\n",
    "print(f\"negentropy: {kewighted_negentropy:.5f}\")"
   ]
  },
  {
   "cell_type": "markdown",
   "metadata": {},
   "source": [
    "### 3. Low pass Gaussian filtering"
   ]
  },
  {
   "cell_type": "code",
   "execution_count": 8,
   "metadata": {},
   "outputs": [
    {
     "name": "stdout",
     "output_type": "stream",
     "text": [
      "BRACKET_FOR_GOLDEN_OPTIMIZATION =  (0.01, 0.5)\n",
      "After normalisaiton NORM_BRACKET_FOR_GOLDEN_OPTIMIZATION =  [0.00039393 0.01969667]\n",
      "\u001b[2m2025-04-04 18:08:28\u001b[0m [\u001b[32m\u001b[1minfo     \u001b[0m] \u001b[1mOptimizing Gaussian smoothing sigma using golden-section search.\u001b[0m\n"
     ]
    },
    {
     "ename": "RuntimeError",
     "evalue": "Golden minimization failed",
     "output_type": "error",
     "traceback": [
      "\u001b[31m---------------------------------------------------------------------------\u001b[39m",
      "\u001b[31mRuntimeError\u001b[39m                              Traceback (most recent call last)",
      "\u001b[36mCell\u001b[39m\u001b[36m \u001b[39m\u001b[32mIn[8]\u001b[39m\u001b[32m, line 1\u001b[39m\n\u001b[32m----> \u001b[39m\u001b[32m1\u001b[39m gaussian_denosied_map, gaussian_metadata = \u001b[43mlow_pass_denoise_difference_map\u001b[49m\u001b[43m(\u001b[49m\u001b[43mk_weighted_diffmap\u001b[49m\u001b[43m,\u001b[49m\u001b[43m \u001b[49m\u001b[43mfull_output\u001b[49m\u001b[43m=\u001b[49m\u001b[38;5;28;43;01mTrue\u001b[39;49;00m\u001b[43m)\u001b[49m\n",
      "\u001b[36mFile \u001b[39m\u001b[32m~/meteor/meteor/lpGaussian.py:70\u001b[39m, in \u001b[36mlow_pass_denoise_difference_map\u001b[39m\u001b[34m(difference_map, full_output, weights_to_scan)\u001b[39m\n\u001b[32m     67\u001b[39m     \u001b[38;5;28mprint\u001b[39m(\u001b[33m\"\u001b[39m\u001b[33mAfter normalisaiton NORM_BRACKET_FOR_GOLDEN_OPTIMIZATION = \u001b[39m\u001b[33m\"\u001b[39m,GAUSSIAN_NORM_BRACKET_FOR_GOLDEN_OPTIMIZATION)\n\u001b[32m     69\u001b[39m     log.info(\u001b[33m\"\u001b[39m\u001b[33mOptimizing Gaussian smoothing sigma using golden-section search.\u001b[39m\u001b[33m\"\u001b[39m)\n\u001b[32m---> \u001b[39m\u001b[32m70\u001b[39m     \u001b[43mmaximizer\u001b[49m\u001b[43m.\u001b[49m\u001b[43moptimize_with_golden_algorithm\u001b[49m\u001b[43m(\u001b[49m\u001b[43mbracket\u001b[49m\u001b[43m=\u001b[49m\u001b[43mGAUSSIAN_NORM_BRACKET_FOR_GOLDEN_OPTIMIZATION\u001b[49m\u001b[43m)\u001b[49m\n\u001b[32m     72\u001b[39m \u001b[38;5;66;03m# if maximizer.argument_optimum > GAUSSIAN_SIGMA_MAX:\u001b[39;00m\n\u001b[32m     73\u001b[39m \u001b[38;5;66;03m#     log.warning(\u001b[39;00m\n\u001b[32m     74\u001b[39m \u001b[38;5;66;03m#         \"Gaussian smoothing sigma much larger than expected, something probably went wrong\",\u001b[39;00m\n\u001b[32m   (...)\u001b[39m\u001b[32m     81\u001b[39m \u001b[38;5;66;03m# # Normalize sigma\u001b[39;00m\n\u001b[32m     82\u001b[39m \u001b[38;5;66;03m# normalised_sigma = maximizer.argument_optimum / avg_voxel_size\u001b[39;00m\n\u001b[32m     83\u001b[39m normalised_sigma = maximizer.argument_optimum\n",
      "\u001b[36mFile \u001b[39m\u001b[32m~/meteor/meteor/validate.py:204\u001b[39m, in \u001b[36mScalarMaximizer.optimize_with_golden_algorithm\u001b[39m\u001b[34m(self, bracket, tolerance)\u001b[39m\n\u001b[32m    202\u001b[39m \u001b[38;5;28;01mif\u001b[39;00m \u001b[38;5;129;01mnot\u001b[39;00m optimizer_result.success:\n\u001b[32m    203\u001b[39m     msg = \u001b[33m\"\u001b[39m\u001b[33mGolden minimization failed\u001b[39m\u001b[33m\"\u001b[39m\n\u001b[32m--> \u001b[39m\u001b[32m204\u001b[39m     \u001b[38;5;28;01mraise\u001b[39;00m \u001b[38;5;167;01mRuntimeError\u001b[39;00m(msg)\n\u001b[32m    206\u001b[39m \u001b[38;5;28mself\u001b[39m._update_optima(optimizer_result.x)\n",
      "\u001b[31mRuntimeError\u001b[39m: Golden minimization failed"
     ]
    }
   ],
   "source": [
    "gaussian_denosied_map, gaussian_metadata = low_pass_denoise_difference_map(k_weighted_diffmap, full_output=True)"
   ]
  },
  {
   "cell_type": "markdown",
   "metadata": {},
   "source": [
    "### 4. TV denoising map"
   ]
  },
  {
   "cell_type": "code",
   "execution_count": null,
   "metadata": {},
   "outputs": [],
   "source": [
    "tv_denosied_map, tv_metadata = tv_denoise_difference_map(k_weighted_diffmap, full_output=True)"
   ]
  },
  {
   "cell_type": "markdown",
   "metadata": {},
   "source": [
    "We can inspect the run `metadata` to observe the optimization in progress -- the Golden section method should nicely sample the region around the maximum more densely."
   ]
  },
  {
   "cell_type": "markdown",
   "metadata": {},
   "source": [
    "### 5. Compare the methods"
   ]
  },
  {
   "cell_type": "code",
   "execution_count": 14,
   "metadata": {},
   "outputs": [],
   "source": [
    "import numpy as np\n",
    "import matplotlib.pyplot as plt\n",
    "\n",
    "def plot_denoising_results(tv_metadata, gaussian_metadata, avg_voxel_size):\n",
    "    plt.figure(figsize=(8, 3))\n",
    "\n",
    "    plt.xlabel(\"Denoising parameter (normalized)\")\n",
    "    plt.ylabel(\"Map negentropy\")\n",
    "    plt.xscale(\"log\")\n",
    "\n",
    "    # TV denoising results\n",
    "    tv_weights_scanned = [pt.parameter_value for pt in tv_metadata.parameter_scan_results]\n",
    "    negentropy_at_weights = [pt.objective_value for pt in tv_metadata.parameter_scan_results]\n",
    "    sort_order_tv = np.argsort(tv_weights_scanned)\n",
    "\n",
    "    plt.plot(\n",
    "        np.array(tv_weights_scanned)[sort_order_tv],\n",
    "        np.array(negentropy_at_weights)[sort_order_tv],\n",
    "        label=\"TV denoising\",\n",
    "        color=\"blue\",\n",
    "    )\n",
    "\n",
    "    plt.scatter(\n",
    "        tv_weights_scanned,\n",
    "        negentropy_at_weights,\n",
    "        edgecolors=\"darkblue\",\n",
    "        linewidths=1,\n",
    "        alpha=0.7,\n",
    "    )\n",
    "\n",
    "    plt.hlines(tv_metadata.initial_negentropy, 0, 0.05, color=\"black\", linestyle=\"dashed\", label=\"Initial negentropy\")\n",
    "    plt.vlines(tv_metadata.optimal_parameter_value, -0.01, 0.10, color=\"black\", linestyle=\"dashed\", label=\"Optimal TV weight\")\n",
    "\n",
    "    # Gaussian denoising results (now using normalized sigma)\n",
    "    gaussian_weights_scanned = [\n",
    "        pt.parameter_value for pt in gaussian_metadata.parameter_scan_results\n",
    "    ]\n",
    "    gaussian_negentropy_at_weights = [pt.objective_value for pt in gaussian_metadata.parameter_scan_results]\n",
    "    sort_order_gaussian = np.argsort(gaussian_weights_scanned)\n",
    "    \n",
    "    plt.plot(\n",
    "        np.array(gaussian_weights_scanned)[sort_order_gaussian],\n",
    "        np.array(gaussian_negentropy_at_weights)[sort_order_gaussian],\n",
    "        label=\"Gaussian denoising (normalized sigma)\",\n",
    "        color=\"red\",\n",
    "    )\n",
    "    \n",
    "    plt.scatter(\n",
    "        gaussian_weights_scanned,\n",
    "        gaussian_negentropy_at_weights,\n",
    "        edgecolors=\"darkred\",\n",
    "        linewidths=1,\n",
    "        alpha=0.7,\n",
    "    )\n",
    "    \n",
    "    # Mark the optimal Gaussian sigma (normalized)\n",
    "    plt.vlines(\n",
    "        gaussian_metadata.normalised_sigma,\n",
    "        -0.01, 0.10,\n",
    "        color=\"red\",\n",
    "        linestyle=\"dashed\",\n",
    "        label=\"Gaussian sigma (normalised)\",\n",
    "    )\n",
    "    \n",
    "    \n",
    "\n",
    "\n",
    "    plt.ylim([0, 0.10])\n",
    "    plt.legend()\n",
    "    plt.show()\n"
   ]
  },
  {
   "cell_type": "code",
   "execution_count": 15,
   "metadata": {},
   "outputs": [
    {
     "data": {
      "image/png": "[encoded data removed]",
      "text/plain": [
       "<Figure size 800x300 with 1 Axes>"
      ]
     },
     "metadata": {},
     "output_type": "display_data"
    }
   ],
   "source": [
    "plot_denoising_results(tv_metadata, gaussian_metadata, k_weighted_diffmap)\n"
   ]
  },
  {
   "cell_type": "code",
   "execution_count": null,
   "metadata": {},
   "outputs": [],
   "source": []
  },
  {
   "cell_type": "code",
   "execution_count": null,
   "metadata": {},
   "outputs": [],
   "source": []
  },
  {
   "cell_type": "code",
   "execution_count": null,
   "metadata": {},
   "outputs": [],
   "source": []
  },
  {
   "cell_type": "code",
   "execution_count": null,
   "metadata": {},
   "outputs": [],
   "source": []
  },
  {
   "cell_type": "code",
   "execution_count": null,
   "metadata": {},
   "outputs": [],
   "source": []
  },
  {
   "cell_type": "markdown",
   "metadata": {},
   "source": [
    "### 4. Write out the results\n",
    "\n",
    "Awesome! Now we have a fancy new diffmap, which we probably want to save so we can do something with it. Like fire up Coot and check it out. If you are curious, the PDB ID corresponding to this dataset is `8a6g`, and you can find a copy of the structure as a PDB file in this repository:\n",
    "\n",
    "> `../test/data/8a6g.pdb`"
   ]
  },
  {
   "cell_type": "code",
   "execution_count": 11,
   "metadata": {},
   "outputs": [],
   "source": [
    "tv_denosied_map.write_mtz(\"my_denoised_diffmap.mtz\")"
   ]
  },
  {
   "cell_type": "code",
   "execution_count": 12,
   "metadata": {},
   "outputs": [],
   "source": [
    "gaussian_denosied_map.write_mtz(\"my_denoised_gaussian_diffmap.mtz\")"
   ]
  }
 ],
 "metadata": {
  "kernelspec": {
   "display_name": "Python 3 (ipykernel)",
   "language": "python",
   "name": "python3"
  },
  "language_info": {
   "codemirror_mode": {
    "name": "ipython",
    "version": 3
   },
   "file_extension": ".py",
   "mimetype": "text/x-python",
   "name": "python",
   "nbconvert_exporter": "python",
   "pygments_lexer": "ipython3",
   "version": "3.11.11"
  }
 },
 "nbformat": 4,
 "nbformat_minor": 4
}
